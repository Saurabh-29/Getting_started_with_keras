{
 "cells": [
  {
   "cell_type": "code",
   "execution_count": 11,
   "metadata": {},
   "outputs": [],
   "source": [
    "import numpy as np\n",
    "from keras.utils import np_utils\n",
    "from keras.models import Model, Sequential\n",
    "from keras.layers import Input, Dense , Activation , Flatten, Dropout\n",
    "from keras.layers import Convolution2D, MaxPooling2D\n"
   ]
  },
  {
   "cell_type": "code",
   "execution_count": 12,
   "metadata": {
    "collapsed": true
   },
   "outputs": [],
   "source": [
    "from keras.datasets import mnist\n",
    "(x_train, y_train), (x_test, y_test) = mnist.load_data()"
   ]
  },
  {
   "cell_type": "code",
   "execution_count": 4,
   "metadata": {
    "collapsed": true
   },
   "outputs": [],
   "source": [
    "x,y,z= x_test.shape\n",
    "test_x=x_test.reshape(x,y,z,1)\n",
    "\n",
    "x,y,z= x_train.shape\n",
    "train_x =x_train.reshape(x,y,z,1)\n",
    "\n",
    "small_x=train_x[0:10000]\n"
   ]
  },
  {
   "cell_type": "code",
   "execution_count": 5,
   "metadata": {
    "collapsed": true
   },
   "outputs": [],
   "source": [
    "def one_hot_encode_object_array(arr):\n",
    "    '''One hot encode a numpy array of objects (e.g. strings)'''\n",
    "    uniques, ids = np.unique(arr, return_inverse=True)\n",
    "    return np_utils.to_categorical(ids,len(uniques))\n",
    "\n",
    "train_y = one_hot_encode_object_array(y_train)\n",
    "test_y = one_hot_encode_object_array(y_test)\n",
    "small_y=train_y[0:10000]\n"
   ]
  },
  {
   "cell_type": "code",
   "execution_count": 13,
   "metadata": {},
   "outputs": [],
   "source": [
    "model=Sequential()\n",
    "model.add(Convolution2D(32,(3,3),activation='relu',input_shape=(28,28,1)))\n",
    "model.add(MaxPooling2D(pool_size=(2,2)))\n",
    "model.add(Convolution2D(64,(3,3),activation='relu'))\n",
    "model.add(Dropout(0.25))\n",
    "#model.add(MaxPooling2D(pool_size=(2,2)))\n",
    "model.add(Flatten())\n",
    "model.add(Dense(32,activation='relu'))\n",
    "model.add(Dropout(0.5))\n",
    "model.add(Dense(10))\n",
    "model.add(Activation('softmax'))"
   ]
  },
  {
   "cell_type": "code",
   "execution_count": 14,
   "metadata": {},
   "outputs": [
    {
     "name": "stdout",
     "output_type": "stream",
     "text": [
      "_________________________________________________________________\n",
      "Layer (type)                 Output Shape              Param #   \n",
      "=================================================================\n",
      "conv2d_5 (Conv2D)            (None, 26, 26, 32)        320       \n",
      "_________________________________________________________________\n",
      "max_pooling2d_2 (MaxPooling2 (None, 13, 13, 32)        0         \n",
      "_________________________________________________________________\n",
      "conv2d_6 (Conv2D)            (None, 11, 11, 64)        18496     \n",
      "_________________________________________________________________\n",
      "dropout_3 (Dropout)          (None, 11, 11, 64)        0         \n",
      "_________________________________________________________________\n",
      "flatten_2 (Flatten)          (None, 7744)              0         \n",
      "_________________________________________________________________\n",
      "dense_3 (Dense)              (None, 32)                247840    \n",
      "_________________________________________________________________\n",
      "dropout_4 (Dropout)          (None, 32)                0         \n",
      "_________________________________________________________________\n",
      "dense_4 (Dense)              (None, 10)                330       \n",
      "_________________________________________________________________\n",
      "activation_2 (Activation)    (None, 10)                0         \n",
      "=================================================================\n",
      "Total params: 266,986\n",
      "Trainable params: 266,986\n",
      "Non-trainable params: 0\n",
      "_________________________________________________________________\n"
     ]
    }
   ],
   "source": [
    "model.summary()"
   ]
  },
  {
   "cell_type": "code",
   "execution_count": 15,
   "metadata": {},
   "outputs": [
    {
     "name": "stdout",
     "output_type": "stream",
     "text": [
      "Epoch 1/30\n",
      "60000/60000 [==============================] - 43s - loss: 1.8809 - acc: 0.4625    \n",
      "Epoch 2/30\n",
      "60000/60000 [==============================] - 43s - loss: 0.7496 - acc: 0.7319    \n",
      "Epoch 3/30\n",
      "60000/60000 [==============================] - 44s - loss: 0.4643 - acc: 0.8302    \n",
      "Epoch 4/30\n",
      "60000/60000 [==============================] - 43s - loss: 0.3783 - acc: 0.8653    \n",
      "Epoch 5/30\n",
      "60000/60000 [==============================] - 41s - loss: 0.3359 - acc: 0.8816    \n",
      "Epoch 6/30\n",
      "60000/60000 [==============================] - 41s - loss: 0.3099 - acc: 0.8903    \n",
      "Epoch 7/30\n",
      "60000/60000 [==============================] - 40s - loss: 0.2877 - acc: 0.8985    \n",
      "Epoch 8/30\n",
      "60000/60000 [==============================] - 40s - loss: 0.2493 - acc: 0.9109    \n",
      "Epoch 9/30\n",
      "60000/60000 [==============================] - 42s - loss: 0.2257 - acc: 0.9198    \n",
      "Epoch 10/30\n",
      "60000/60000 [==============================] - 43s - loss: 0.2057 - acc: 0.9264    \n",
      "Epoch 11/30\n",
      "60000/60000 [==============================] - 45s - loss: 0.1991 - acc: 0.9295    \n",
      "Epoch 12/30\n",
      "60000/60000 [==============================] - 42s - loss: 0.1815 - acc: 0.9356    \n",
      "Epoch 13/30\n",
      "60000/60000 [==============================] - 47s - loss: 0.1730 - acc: 0.9385    \n",
      "Epoch 14/30\n",
      "60000/60000 [==============================] - 49s - loss: 0.1632 - acc: 0.9459    \n",
      "Epoch 15/30\n",
      "60000/60000 [==============================] - 47s - loss: 0.1535 - acc: 0.9477    \n",
      "Epoch 16/30\n",
      "60000/60000 [==============================] - 46s - loss: 0.1529 - acc: 0.9480    \n",
      "Epoch 17/30\n",
      "60000/60000 [==============================] - 44s - loss: 0.1489 - acc: 0.9493    \n",
      "Epoch 18/30\n",
      "60000/60000 [==============================] - 45s - loss: 0.1427 - acc: 0.9527    \n",
      "Epoch 19/30\n",
      "60000/60000 [==============================] - 44s - loss: 0.1433 - acc: 0.9510    \n",
      "Epoch 20/30\n",
      "60000/60000 [==============================] - 40s - loss: 0.1412 - acc: 0.9525    \n",
      "Epoch 21/30\n",
      "60000/60000 [==============================] - 40s - loss: 0.1306 - acc: 0.9561    \n",
      "Epoch 22/30\n",
      "60000/60000 [==============================] - 40s - loss: 0.1326 - acc: 0.9554    \n",
      "Epoch 23/30\n",
      "60000/60000 [==============================] - 40s - loss: 0.1307 - acc: 0.9562    \n",
      "Epoch 24/30\n",
      "60000/60000 [==============================] - 41s - loss: 0.1254 - acc: 0.9585    \n",
      "Epoch 25/30\n",
      "60000/60000 [==============================] - 40s - loss: 0.1150 - acc: 0.9616    \n",
      "Epoch 26/30\n",
      "60000/60000 [==============================] - 43s - loss: 0.1153 - acc: 0.9622    \n",
      "Epoch 27/30\n",
      "60000/60000 [==============================] - 42s - loss: 0.1090 - acc: 0.9637    \n",
      "Epoch 28/30\n",
      "60000/60000 [==============================] - 42s - loss: 0.1107 - acc: 0.9630    \n",
      "Epoch 29/30\n",
      "60000/60000 [==============================] - 41s - loss: 0.1099 - acc: 0.9637    \n",
      "Epoch 30/30\n",
      "60000/60000 [==============================] - 41s - loss: 0.1036 - acc: 0.9648    \n"
     ]
    },
    {
     "data": {
      "text/plain": [
       "<keras.callbacks.History at 0x7f20a81b71d0>"
      ]
     },
     "execution_count": 15,
     "metadata": {},
     "output_type": "execute_result"
    }
   ],
   "source": [
    "model.compile(optimizer='adam',loss='categorical_crossentropy',metrics=[\"accuracy\"])\n",
    "model.fit(train_x,train_y,epochs=30,batch_size=128,verbose=1)"
   ]
  },
  {
   "cell_type": "code",
   "execution_count": 16,
   "metadata": {},
   "outputs": [
    {
     "name": "stdout",
     "output_type": "stream",
     "text": [
      "10000/10000 [==============================] - 2s     \n"
     ]
    },
    {
     "data": {
      "text/plain": [
       "(0.04438381898312737, 0.99050000000000005)"
      ]
     },
     "execution_count": 16,
     "metadata": {},
     "output_type": "execute_result"
    }
   ],
   "source": [
    "loss, accuracy = model.evaluate(test_x, test_y, verbose=1)\n",
    "loss,accuracy"
   ]
  },
  {
   "cell_type": "code",
   "execution_count": 12,
   "metadata": {},
   "outputs": [
    {
     "ename": "RuntimeError",
     "evalue": "The model needs to be compiled before being used.",
     "output_type": "error",
     "traceback": [
      "\u001b[0;31m---------------------------------------------------------------------------\u001b[0m",
      "\u001b[0;31mRuntimeError\u001b[0m                              Traceback (most recent call last)",
      "\u001b[0;32m<ipython-input-12-570dda0f0b79>\u001b[0m in \u001b[0;36m<module>\u001b[0;34m()\u001b[0m\n\u001b[0;32m----> 1\u001b[0;31m \u001b[0mloss\u001b[0m\u001b[0;34m,\u001b[0m \u001b[0maccuracy\u001b[0m \u001b[0;34m=\u001b[0m \u001b[0mmodel\u001b[0m\u001b[0;34m.\u001b[0m\u001b[0mevaluate\u001b[0m\u001b[0;34m(\u001b[0m\u001b[0mtest_x\u001b[0m\u001b[0;34m,\u001b[0m \u001b[0mtest_y\u001b[0m\u001b[0;34m,\u001b[0m \u001b[0mverbose\u001b[0m\u001b[0;34m=\u001b[0m\u001b[0;36m1\u001b[0m\u001b[0;34m)\u001b[0m\u001b[0;34m\u001b[0m\u001b[0m\n\u001b[0m\u001b[1;32m      2\u001b[0m \u001b[0mloss\u001b[0m\u001b[0;34m,\u001b[0m\u001b[0maccuracy\u001b[0m\u001b[0;34m\u001b[0m\u001b[0m\n",
      "\u001b[0;32m/home/saurabh/myproject/tensorflow/local/lib/python2.7/site-packages/keras/models.pyc\u001b[0m in \u001b[0;36mevaluate\u001b[0;34m(self, x, y, batch_size, verbose, sample_weight)\u001b[0m\n\u001b[1;32m    885\u001b[0m         \"\"\"\n\u001b[1;32m    886\u001b[0m         \u001b[0;32mif\u001b[0m \u001b[0mself\u001b[0m\u001b[0;34m.\u001b[0m\u001b[0mmodel\u001b[0m \u001b[0;32mis\u001b[0m \u001b[0mNone\u001b[0m\u001b[0;34m:\u001b[0m\u001b[0;34m\u001b[0m\u001b[0m\n\u001b[0;32m--> 887\u001b[0;31m             raise RuntimeError('The model needs to be compiled '\n\u001b[0m\u001b[1;32m    888\u001b[0m                                'before being used.')\n\u001b[1;32m    889\u001b[0m         return self.model.evaluate(x, y,\n",
      "\u001b[0;31mRuntimeError\u001b[0m: The model needs to be compiled before being used."
     ]
    }
   ],
   "source": [
    "loss, accuracy = model.evaluate(test_x, test_y, verbose=1)\n",
    "loss,accuracy"
   ]
  }
 ],
 "metadata": {
  "kernelspec": {
   "display_name": "Python 2",
   "language": "python",
   "name": "python2"
  },
  "language_info": {
   "codemirror_mode": {
    "name": "ipython",
    "version": 2
   },
   "file_extension": ".py",
   "mimetype": "text/x-python",
   "name": "python",
   "nbconvert_exporter": "python",
   "pygments_lexer": "ipython2",
   "version": "2.7.12"
  }
 },
 "nbformat": 4,
 "nbformat_minor": 2
}
