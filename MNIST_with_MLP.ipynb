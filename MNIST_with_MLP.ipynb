{
 "cells": [
  {
   "cell_type": "code",
   "execution_count": 1,
   "metadata": {},
   "outputs": [
    {
     "name": "stderr",
     "output_type": "stream",
     "text": [
      "Using TensorFlow backend.\n"
     ]
    }
   ],
   "source": [
    "import numpy as np\n",
    "from keras.utils import np_utils\n",
    "from keras.models import Model, Sequential\n",
    "from keras.layers import Input, Dense , Activation"
   ]
  },
  {
   "cell_type": "code",
   "execution_count": 2,
   "metadata": {
    "collapsed": true
   },
   "outputs": [],
   "source": [
    "from keras.datasets import mnist\n",
    "(x_train, y_train), (x_test, y_test) = mnist.load_data()"
   ]
  },
  {
   "cell_type": "code",
   "execution_count": 3,
   "metadata": {
    "collapsed": true
   },
   "outputs": [],
   "source": [
    "x,y,z= x_test.shape\n",
    "test_x=x_test.reshape(x,y*z)\n",
    "\n",
    "x,y,z= x_train.shape\n",
    "train_x =x_train.reshape(x,y*z)\n",
    "\n"
   ]
  },
  {
   "cell_type": "code",
   "execution_count": 5,
   "metadata": {
    "collapsed": true
   },
   "outputs": [],
   "source": [
    "def one_hot_encode_object_array(arr):\n",
    "    '''One hot encode a numpy array of objects (e.g. strings)'''\n",
    "    uniques, ids = np.unique(arr, return_inverse=True)\n",
    "    return np_utils.to_categorical(ids,len(uniques))\n",
    "\n",
    "train_y = one_hot_encode_object_array(y_train)\n",
    "test_y = one_hot_encode_object_array(y_test)\n",
    "\n",
    "small_x=train_x[0:10000]\n",
    "small_y=train_y[0:10000]\n",
    "\n",
    "#train_y_ohe, test_y_ohe\n"
   ]
  },
  {
   "cell_type": "code",
   "execution_count": 6,
   "metadata": {},
   "outputs": [],
   "source": [
    "model=Sequential()\n",
    "model.add(Dense(50,input_shape=(784,),activation='sigmoid'))\n",
    "model.add(Dense(10,activation='softmax'))"
   ]
  },
  {
   "cell_type": "code",
   "execution_count": 7,
   "metadata": {
    "scrolled": true
   },
   "outputs": [
    {
     "name": "stdout",
     "output_type": "stream",
     "text": [
      "Epoch 1/30\n",
      "60000/60000 [==============================] - 1s - loss: 0.8229 - acc: 0.7943     \n",
      "Epoch 2/30\n",
      "60000/60000 [==============================] - 1s - loss: 0.4087 - acc: 0.8882     \n",
      "Epoch 3/30\n",
      "60000/60000 [==============================] - 1s - loss: 0.3463 - acc: 0.9012     \n",
      "Epoch 4/30\n",
      "60000/60000 [==============================] - 1s - loss: 0.3255 - acc: 0.9054     \n",
      "Epoch 5/30\n",
      "60000/60000 [==============================] - 1s - loss: 0.3013 - acc: 0.9117     \n",
      "Epoch 6/30\n",
      "60000/60000 [==============================] - 1s - loss: 0.2883 - acc: 0.9159     \n",
      "Epoch 7/30\n",
      "60000/60000 [==============================] - 1s - loss: 0.2818 - acc: 0.9167     \n",
      "Epoch 8/30\n",
      "60000/60000 [==============================] - 1s - loss: 0.2742 - acc: 0.9196     \n",
      "Epoch 9/30\n",
      "60000/60000 [==============================] - 1s - loss: 0.2726 - acc: 0.9199     \n",
      "Epoch 10/30\n",
      "60000/60000 [==============================] - 1s - loss: 0.2534 - acc: 0.9245     \n",
      "Epoch 11/30\n",
      "60000/60000 [==============================] - 1s - loss: 0.2508 - acc: 0.9251     \n",
      "Epoch 12/30\n",
      "60000/60000 [==============================] - 1s - loss: 0.2519 - acc: 0.9248     \n",
      "Epoch 13/30\n",
      "60000/60000 [==============================] - 1s - loss: 0.2456 - acc: 0.9268     \n",
      "Epoch 14/30\n",
      "60000/60000 [==============================] - 1s - loss: 0.2399 - acc: 0.9281     \n",
      "Epoch 15/30\n",
      "60000/60000 [==============================] - 1s - loss: 0.2456 - acc: 0.9269     \n",
      "Epoch 16/30\n",
      "60000/60000 [==============================] - 1s - loss: 0.2406 - acc: 0.9284     \n",
      "Epoch 17/30\n",
      "60000/60000 [==============================] - 1s - loss: 0.2373 - acc: 0.9289     \n",
      "Epoch 18/30\n",
      "60000/60000 [==============================] - 1s - loss: 0.2371 - acc: 0.9287     \n",
      "Epoch 19/30\n",
      "60000/60000 [==============================] - 1s - loss: 0.2255 - acc: 0.9322     \n",
      "Epoch 20/30\n",
      "60000/60000 [==============================] - 1s - loss: 0.2248 - acc: 0.9318     \n",
      "Epoch 21/30\n",
      "60000/60000 [==============================] - 1s - loss: 0.2162 - acc: 0.9350     \n",
      "Epoch 22/30\n",
      "60000/60000 [==============================] - 1s - loss: 0.2117 - acc: 0.9365     \n",
      "Epoch 23/30\n",
      "60000/60000 [==============================] - 1s - loss: 0.2232 - acc: 0.9325     \n",
      "Epoch 24/30\n",
      "60000/60000 [==============================] - 1s - loss: 0.2169 - acc: 0.9345     \n",
      "Epoch 25/30\n",
      "60000/60000 [==============================] - 1s - loss: 0.2024 - acc: 0.9399     \n",
      "Epoch 26/30\n",
      "60000/60000 [==============================] - 1s - loss: 0.2078 - acc: 0.9364     \n",
      "Epoch 27/30\n",
      "60000/60000 [==============================] - 1s - loss: 0.2070 - acc: 0.9375     \n",
      "Epoch 28/30\n",
      "60000/60000 [==============================] - 1s - loss: 0.2074 - acc: 0.9379     \n",
      "Epoch 29/30\n",
      "60000/60000 [==============================] - 1s - loss: 0.2138 - acc: 0.9356     \n",
      "Epoch 30/30\n",
      "60000/60000 [==============================] - 1s - loss: 0.2236 - acc: 0.9323     \n"
     ]
    },
    {
     "data": {
      "text/plain": [
       "<keras.callbacks.History at 0x7f2a8bcbd3d0>"
      ]
     },
     "execution_count": 7,
     "metadata": {},
     "output_type": "execute_result"
    }
   ],
   "source": [
    "model.compile(optimizer='adam',loss='categorical_crossentropy',metrics=[\"accuracy\"])\n",
    "model.fit(train_x,train_y,epochs=30,batch_size=128,verbose=1)"
   ]
  },
  {
   "cell_type": "code",
   "execution_count": 8,
   "metadata": {},
   "outputs": [
    {
     "name": "stdout",
     "output_type": "stream",
     "text": [
      " 8448/10000 [========================>.....] - ETA: 0s"
     ]
    },
    {
     "data": {
      "text/plain": [
       "(0.23086030806154012, 0.93179999999999996)"
      ]
     },
     "execution_count": 8,
     "metadata": {},
     "output_type": "execute_result"
    }
   ],
   "source": [
    "loss, accuracy = model.evaluate(test_x, test_y, verbose=1)\n",
    "loss,accuracy"
   ]
  }
 ],
 "metadata": {
  "kernelspec": {
   "display_name": "Python 2",
   "language": "python",
   "name": "python2"
  },
  "language_info": {
   "codemirror_mode": {
    "name": "ipython",
    "version": 2
   },
   "file_extension": ".py",
   "mimetype": "text/x-python",
   "name": "python",
   "nbconvert_exporter": "python",
   "pygments_lexer": "ipython2",
   "version": "2.7.12"
  }
 },
 "nbformat": 4,
 "nbformat_minor": 2
}
