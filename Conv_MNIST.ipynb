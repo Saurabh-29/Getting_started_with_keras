{
 "cells": [
  {
   "cell_type": "code",
   "execution_count": 1,
   "metadata": {},
   "outputs": [
    {
     "name": "stderr",
     "output_type": "stream",
     "text": [
      "Using TensorFlow backend.\n"
     ]
    }
   ],
   "source": [
    "import numpy as np\n",
    "from keras.utils import np_utils\n",
    "from keras.models import Model, Sequential\n",
    "from keras.layers import Input, Dense , Activation , Flatten\n",
    "from keras.layers import Convolution2D, MaxPooling2D\n"
   ]
  },
  {
   "cell_type": "code",
   "execution_count": 2,
   "metadata": {
    "collapsed": true
   },
   "outputs": [],
   "source": [
    "from keras.datasets import mnist\n",
    "(x_train, y_train), (x_test, y_test) = mnist.load_data()"
   ]
  },
  {
   "cell_type": "code",
   "execution_count": 3,
   "metadata": {
    "collapsed": true
   },
   "outputs": [],
   "source": [
    "x,y,z= x_test.shape\n",
    "test_x=x_test.reshape(x,y,z,1)\n",
    "\n",
    "x,y,z= x_train.shape\n",
    "train_x =x_train.reshape(x,y,z,1)\n",
    "\n",
    "small_x=train_x[0:10000]\n"
   ]
  },
  {
   "cell_type": "code",
   "execution_count": 4,
   "metadata": {
    "collapsed": true
   },
   "outputs": [],
   "source": [
    "def one_hot_encode_object_array(arr):\n",
    "    '''One hot encode a numpy array of objects (e.g. strings)'''\n",
    "    uniques, ids = np.unique(arr, return_inverse=True)\n",
    "    return np_utils.to_categorical(ids,len(uniques))\n",
    "\n",
    "train_y = one_hot_encode_object_array(y_train)\n",
    "test_y = one_hot_encode_object_array(y_test)\n",
    "small_y=train_y[0:10000]\n"
   ]
  },
  {
   "cell_type": "code",
   "execution_count": 8,
   "metadata": {
    "collapsed": true
   },
   "outputs": [],
   "source": [
    "model=Sequential()\n",
    "model.add(Convolution2D(32,(3,3),activation='relu',input_shape=(28,28,1)))\n",
    "model.add(MaxPooling2D(pool_size=(2,2)))\n",
    "model.add(Convolution2D(64,(3,3),activation='relu'))\n",
    "#model.add(MaxPooling2D(pool_size=(2,2)))\n",
    "model.add(Flatten())\n",
    "model.add(Dense(32,activation='relu'))\n",
    "model.add(Dense(10))\n",
    "model.add(Activation('softmax'))"
   ]
  },
  {
   "cell_type": "code",
   "execution_count": 9,
   "metadata": {},
   "outputs": [
    {
     "name": "stdout",
     "output_type": "stream",
     "text": [
      "_________________________________________________________________\n",
      "Layer (type)                 Output Shape              Param #   \n",
      "=================================================================\n",
      "conv2d_5 (Conv2D)            (None, 26, 26, 32)        320       \n",
      "_________________________________________________________________\n",
      "max_pooling2d_4 (MaxPooling2 (None, 13, 13, 32)        0         \n",
      "_________________________________________________________________\n",
      "conv2d_6 (Conv2D)            (None, 11, 11, 64)        18496     \n",
      "_________________________________________________________________\n",
      "flatten_3 (Flatten)          (None, 7744)              0         \n",
      "_________________________________________________________________\n",
      "dense_5 (Dense)              (None, 32)                247840    \n",
      "_________________________________________________________________\n",
      "dense_6 (Dense)              (None, 10)                330       \n",
      "_________________________________________________________________\n",
      "activation_3 (Activation)    (None, 10)                0         \n",
      "=================================================================\n",
      "Total params: 266,986\n",
      "Trainable params: 266,986\n",
      "Non-trainable params: 0\n",
      "_________________________________________________________________\n"
     ]
    }
   ],
   "source": [
    "model.summary()"
   ]
  },
  {
   "cell_type": "code",
   "execution_count": 10,
   "metadata": {},
   "outputs": [
    {
     "name": "stdout",
     "output_type": "stream",
     "text": [
      "Epoch 1/30\n",
      "60000/60000 [==============================] - 40s - loss: 6.8313 - acc: 0.5484    \n",
      "Epoch 2/30\n",
      "60000/60000 [==============================] - 40s - loss: 0.0692 - acc: 0.9801    \n",
      "Epoch 3/30\n",
      "60000/60000 [==============================] - 40s - loss: 0.0382 - acc: 0.9882    \n",
      "Epoch 4/30\n",
      "60000/60000 [==============================] - 40s - loss: 0.0258 - acc: 0.9919    \n",
      "Epoch 5/30\n",
      "60000/60000 [==============================] - 39s - loss: 0.0227 - acc: 0.9926    \n",
      "Epoch 6/30\n",
      "60000/60000 [==============================] - 39s - loss: 0.0153 - acc: 0.9951    \n",
      "Epoch 7/30\n",
      "60000/60000 [==============================] - 39s - loss: 0.0139 - acc: 0.9955    \n",
      "Epoch 8/30\n",
      "60000/60000 [==============================] - 39s - loss: 0.0143 - acc: 0.9956    \n",
      "Epoch 9/30\n",
      "60000/60000 [==============================] - 39s - loss: 0.0114 - acc: 0.9962    \n",
      "Epoch 10/30\n",
      "60000/60000 [==============================] - 40s - loss: 0.0132 - acc: 0.9963    \n",
      "Epoch 11/30\n",
      "60000/60000 [==============================] - 39s - loss: 0.0104 - acc: 0.9966    \n",
      "Epoch 12/30\n",
      "60000/60000 [==============================] - 38s - loss: 0.0106 - acc: 0.9968    \n",
      "Epoch 13/30\n",
      "60000/60000 [==============================] - 38s - loss: 0.0101 - acc: 0.9969    \n",
      "Epoch 14/30\n",
      "60000/60000 [==============================] - 38s - loss: 0.0088 - acc: 0.9973    \n",
      "Epoch 15/30\n",
      "60000/60000 [==============================] - 38s - loss: 0.0094 - acc: 0.9973    \n",
      "Epoch 16/30\n",
      "60000/60000 [==============================] - 39s - loss: 0.0095 - acc: 0.9974    \n",
      "Epoch 17/30\n",
      "60000/60000 [==============================] - 39s - loss: 0.0079 - acc: 0.9978    \n",
      "Epoch 18/30\n",
      "60000/60000 [==============================] - 39s - loss: 0.0104 - acc: 0.9971    \n",
      "Epoch 19/30\n",
      "60000/60000 [==============================] - 39s - loss: 0.0085 - acc: 0.9976    \n",
      "Epoch 20/30\n",
      "60000/60000 [==============================] - 39s - loss: 0.0046 - acc: 0.9986    \n",
      "Epoch 21/30\n",
      "60000/60000 [==============================] - 40s - loss: 0.0090 - acc: 0.9975    \n",
      "Epoch 22/30\n",
      "60000/60000 [==============================] - 39s - loss: 0.0070 - acc: 0.9980    \n",
      "Epoch 23/30\n",
      "60000/60000 [==============================] - 39s - loss: 0.0085 - acc: 0.9977    \n",
      "Epoch 24/30\n",
      "60000/60000 [==============================] - 39s - loss: 0.0075 - acc: 0.9980    \n",
      "Epoch 25/30\n",
      "60000/60000 [==============================] - 39s - loss: 0.0069 - acc: 0.9980    \n",
      "Epoch 26/30\n",
      "60000/60000 [==============================] - 39s - loss: 0.0055 - acc: 0.9985    \n",
      "Epoch 27/30\n",
      "60000/60000 [==============================] - 39s - loss: 0.0068 - acc: 0.9981    \n",
      "Epoch 28/30\n",
      "60000/60000 [==============================] - 39s - loss: 0.0097 - acc: 0.9978    \n",
      "Epoch 29/30\n",
      "60000/60000 [==============================] - 38s - loss: 0.0044 - acc: 0.9989    \n",
      "Epoch 30/30\n",
      "60000/60000 [==============================] - 37s - loss: 0.0050 - acc: 0.9988    \n"
     ]
    },
    {
     "data": {
      "text/plain": [
       "<keras.callbacks.History at 0x7f9ab0b81fd0>"
      ]
     },
     "execution_count": 10,
     "metadata": {},
     "output_type": "execute_result"
    }
   ],
   "source": [
    "model.compile(optimizer='adam',loss='categorical_crossentropy',metrics=[\"accuracy\"])\n",
    "model.fit(train_x,train_y,epochs=30,batch_size=128,verbose=1)"
   ]
  },
  {
   "cell_type": "code",
   "execution_count": 11,
   "metadata": {},
   "outputs": [
    {
     "name": "stdout",
     "output_type": "stream",
     "text": [
      " 9888/10000 [============================>.] - ETA: 0s"
     ]
    },
    {
     "data": {
      "text/plain": [
       "(0.10728336949036815, 0.98580000000000001)"
      ]
     },
     "execution_count": 11,
     "metadata": {},
     "output_type": "execute_result"
    }
   ],
   "source": [
    "loss, accuracy = model.evaluate(test_x, test_y, verbose=1)\n",
    "loss,accuracy"
   ]
  },
  {
   "cell_type": "code",
   "execution_count": 12,
   "metadata": {},
   "outputs": [
    {
     "ename": "RuntimeError",
     "evalue": "The model needs to be compiled before being used.",
     "output_type": "error",
     "traceback": [
      "\u001b[0;31m---------------------------------------------------------------------------\u001b[0m",
      "\u001b[0;31mRuntimeError\u001b[0m                              Traceback (most recent call last)",
      "\u001b[0;32m<ipython-input-12-570dda0f0b79>\u001b[0m in \u001b[0;36m<module>\u001b[0;34m()\u001b[0m\n\u001b[0;32m----> 1\u001b[0;31m \u001b[0mloss\u001b[0m\u001b[0;34m,\u001b[0m \u001b[0maccuracy\u001b[0m \u001b[0;34m=\u001b[0m \u001b[0mmodel\u001b[0m\u001b[0;34m.\u001b[0m\u001b[0mevaluate\u001b[0m\u001b[0;34m(\u001b[0m\u001b[0mtest_x\u001b[0m\u001b[0;34m,\u001b[0m \u001b[0mtest_y\u001b[0m\u001b[0;34m,\u001b[0m \u001b[0mverbose\u001b[0m\u001b[0;34m=\u001b[0m\u001b[0;36m1\u001b[0m\u001b[0;34m)\u001b[0m\u001b[0;34m\u001b[0m\u001b[0m\n\u001b[0m\u001b[1;32m      2\u001b[0m \u001b[0mloss\u001b[0m\u001b[0;34m,\u001b[0m\u001b[0maccuracy\u001b[0m\u001b[0;34m\u001b[0m\u001b[0m\n",
      "\u001b[0;32m/home/saurabh/myproject/tensorflow/local/lib/python2.7/site-packages/keras/models.pyc\u001b[0m in \u001b[0;36mevaluate\u001b[0;34m(self, x, y, batch_size, verbose, sample_weight)\u001b[0m\n\u001b[1;32m    885\u001b[0m         \"\"\"\n\u001b[1;32m    886\u001b[0m         \u001b[0;32mif\u001b[0m \u001b[0mself\u001b[0m\u001b[0;34m.\u001b[0m\u001b[0mmodel\u001b[0m \u001b[0;32mis\u001b[0m \u001b[0mNone\u001b[0m\u001b[0;34m:\u001b[0m\u001b[0;34m\u001b[0m\u001b[0m\n\u001b[0;32m--> 887\u001b[0;31m             raise RuntimeError('The model needs to be compiled '\n\u001b[0m\u001b[1;32m    888\u001b[0m                                'before being used.')\n\u001b[1;32m    889\u001b[0m         return self.model.evaluate(x, y,\n",
      "\u001b[0;31mRuntimeError\u001b[0m: The model needs to be compiled before being used."
     ]
    }
   ],
   "source": [
    "loss, accuracy = model.evaluate(test_x, test_y, verbose=1)\n",
    "loss,accuracy"
   ]
  }
 ],
 "metadata": {
  "kernelspec": {
   "display_name": "Python 2",
   "language": "python",
   "name": "python2"
  },
  "language_info": {
   "codemirror_mode": {
    "name": "ipython",
    "version": 2
   },
   "file_extension": ".py",
   "mimetype": "text/x-python",
   "name": "python",
   "nbconvert_exporter": "python",
   "pygments_lexer": "ipython2",
   "version": "2.7.12"
  }
 },
 "nbformat": 4,
 "nbformat_minor": 2
}
